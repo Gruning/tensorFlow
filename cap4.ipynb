{
 "cells": [
  {
   "cell_type": "raw",
   "metadata": {},
   "source": [
    "import tensorflow as tf \n",
    "import numpy as np  \n",
    "%autoindent\n",
    "try:\n",
    "    from tqdm import tqdm\n",
    "except ImportError:\n",
    "    def tqdm(x, *args, **kwargs):\n",
    "        return x\n",
    "data = np.load('data_with_labels.npz')\n",
    "train = data['arr_0']/255.\n",
    "labels = data['arr_1']\n",
    "print(train[0])\n",
    "print(labels[0])\n",
    "import matplotlib.pyplot as plt \n",
    "plt.ion()\n",
    "plt.figure(figsize=(6,6))\n",
    "f, plts = plt.subplots(5,sharex=True)\n",
    "c= 91 \n",
    "for i in range(5):\n",
    "    plts[i].pcolor(train[c+i*558],cmap=plt.cm.gray_r )\n",
    "def to_onehot(labels,nclases =5):\n",
    "    '''\n",
    "    convert labels to one-hot format\n",
    "    >>>a = [0,1,2,3]\n",
    "    >>>to_onehot(a,5)\n",
    "    array([[1.,0.,0.,0.,0.,],\n",
    "        [0.,1.,0.,0.,0.,],\n",
    "        [0.,0.,1.,0.,0.,],\n",
    "        [1.,0.,0.,1.,0.,]])\n",
    "    '''\n",
    "    outlabels = np.zeros((len(labels),nclases))\n",
    "    for i,l in enumerate(labels):\n",
    "        outlabels[i,l]=1\n",
    "    return outlabels\n",
    "onehot = to_onehot(labels)\n",
    "indices = np.random.permutation(train.shape[0])\n",
    "valid_cnt = int(train.shape[0]* 0.1)\n",
    "test_idx, training_idx = indices[:valid_cnt],\\\n",
    "                            indices[valid_cnt:]\n",
    "test, train = train[test_idx,:],\\\n",
    "            train[training_idx,:]\n",
    "onehot_test, onehot_train = onehot[test_idx,:],\\\n",
    "                            onehot[training_idx,:]\n"
   ]
  }
 ],
 "metadata": {
  "kernelspec": {
   "display_name": "Python 3",
   "name": "python3"
  },
  "language_info": {
   "name": "python",
   "nbconvert_exporter": "python",
   "version": "3.8.2-final"
  },
  "orig_nbformat": 2
 },
 "nbformat": 4,
 "nbformat_minor": 2
}